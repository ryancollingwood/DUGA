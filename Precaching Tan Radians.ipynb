{
 "cells": [
  {
   "cell_type": "code",
   "execution_count": 58,
   "metadata": {},
   "outputs": [],
   "source": [
    "import math\n",
    "from consts.geom import DEGREES_0, DEGREES_90, DEGREES_180, DEGREES_270, DEGREES_360\n",
    "from consts.geom import DEGREES_EPSILON \n",
    "\n",
    "#pre_calc_tan_radians = {}\n",
    "pre_calc_tan_radians = []\n",
    "\n",
    "def calc_tan_radians(x):\n",
    "    return math.tan(math.radians(x))\n",
    "\n",
    "for x in range(0,int(90/DEGREES_EPSILON)):\n",
    "    pre_calc_tan_radians.append(calc_tan_radians(x * DEGREES_EPSILON))\n",
    "\n",
    "def get_tan_radians_for_angle(angle):\n",
    "    index = int(angle / DEGREES_EPSILON)\n",
    "    result = None\n",
    "    try:\n",
    "        result = pre_calc_tan_radians[index]    \n",
    "    except IndexError as e:\n",
    "        print(\"No value for angle:\", angle, \", at index\", index)\n",
    "        raise e\n",
    "        \n",
    "    return result\n",
    "\n",
    "for test_item in [1, 12, 27, 33, 42, 47, 54, 59, 66, 71, 79, 81, 89]:\n",
    "    assert(get_tan_radians_for_angle(test_item) == calc_tan_radians(test_item))"
   ]
  },
  {
   "cell_type": "markdown",
   "metadata": {},
   "source": [
    "360 degrees is tricky"
   ]
  },
  {
   "cell_type": "code",
   "execution_count": 72,
   "metadata": {
    "collapsed": true
   },
   "outputs": [],
   "source": [
    "def get_tan_radains(value):\n",
    "    x_check = value    \n",
    "    mod = 1\n",
    "    \n",
    "    if x_check >= DEGREES_360:\n",
    "        x_check = x_check - DEGREES_360\n",
    "\n",
    "    # TODO alternate between +/- depending on ray number\n",
    "    if x_check in [DEGREES_0, DEGREES_90, DEGREES_180, DEGREES_270, DEGREES_360]:\n",
    "        x_check = x_check - DEGREES_EPSILON\n",
    "        \n",
    "    x = x_check\n",
    "\n",
    "    if x > DEGREES_0 and x < DEGREES_90:\n",
    "        pass\n",
    "    elif x > DEGREES_90 and x < DEGREES_180:\n",
    "        x = (DEGREES_180 - DEGREES_90 - x) + DEGREES_90\n",
    "        mod = -1\n",
    "    elif x > DEGREES_180 and x < DEGREES_270:\n",
    "        x = (x - DEGREES_180)\n",
    "        mod = 1\n",
    "    elif x > DEGREES_270 and x < DEGREES_360:\n",
    "        x = (DEGREES_360 - DEGREES_270 - x) + DEGREES_270\n",
    "        mod = -1\n",
    "    \n",
    "    return (get_tan_radians_for_angle(x) * mod), x_check, x"
   ]
  },
  {
   "cell_type": "code",
   "execution_count": 73,
   "metadata": {
    "collapsed": true
   },
   "outputs": [],
   "source": [
    "def do_test(value):\n",
    "    pre_calc_value, revised_x, used_x = get_tan_radains(value)\n",
    "    calc_value = calc_tan_radians(revised_x)\n",
    "\n",
    "    # check if equal to the decimal points of interest\n",
    "    equal_to_points_of_interest = round(calc_value, 5) == round(pre_calc_value, 5)\n",
    "    print(value, calc_value, pre_calc_value, equal_to_points_of_interest, used_x)\n",
    "    assert(equal_to_points_of_interest)"
   ]
  },
  {
   "cell_type": "code",
   "execution_count": 74,
   "metadata": {},
   "outputs": [
    {
     "name": "stdout",
     "output_type": "stream",
     "text": [
      "0.001 1.745329252171549e-05 1.745329252171549e-05 True 0.001\n",
      "0.1 0.0017453310241888004 0.0017453310241888004 True 0.1\n",
      "38 0.7812856265067174 0.7812856265067174 True 38\n",
      "55 1.4281480067421144 1.4281480067421144 True 55\n",
      "90 57295.779507212894 57295.779507212894 True 89.999\n",
      "100 -5.671281819617711 -5.671281819617707 True 80\n",
      "148 -0.6248693519093275 -0.6248693519093275 True 32\n",
      "167 -0.23086819112556334 -0.23086819112556312 True 13\n",
      "180 -1.7453292522014502e-05 -1.745329252171549e-05 True 0.0010000000000047748\n",
      "190 0.1763269807084651 0.17632698070846498 True 10\n",
      "223 0.9325150861376613 0.9325150861376618 True 43\n",
      "249 2.605089064693798 2.6050890646938005 True 69\n",
      "261 6.313751514675036 6.313751514675041 True 81\n",
      "285 -3.7320508075688847 -3.7320508075688776 True 75\n",
      "305 -1.4281480067421146 -1.4281480067421144 True 55\n",
      "319 -0.8692867378162269 -0.8692867378162266 True 41\n",
      "339 -0.3838640350354164 -0.3838640350354158 True 21\n",
      "340 -0.3639702342662022 -0.36397023426620234 True 20\n",
      "285 -3.7320508075688847 -3.7320508075688776 True 75\n",
      "305 -1.4281480067421146 -1.4281480067421144 True 55\n",
      "319 -0.8692867378162269 -0.8692867378162266 True 41\n",
      "339 -0.3838640350354164 -0.3838640350354158 True 21\n",
      "340 -0.3639702342662022 -0.36397023426620234 True 20\n",
      "360 -1.745329252171549e-05 57295.779507212894 False -0.001\n"
     ]
    },
    {
     "ename": "AssertionError",
     "evalue": "",
     "output_type": "error",
     "traceback": [
      "\u001b[1;31m---------------------------------------------------------------------------\u001b[0m",
      "\u001b[1;31mAssertionError\u001b[0m                            Traceback (most recent call last)",
      "\u001b[1;32m<ipython-input-74-9272f09880bf>\u001b[0m in \u001b[0;36m<module>\u001b[1;34m()\u001b[0m\n\u001b[0;32m      5\u001b[0m \u001b[1;33m\u001b[0m\u001b[0m\n\u001b[0;32m      6\u001b[0m \u001b[1;32mfor\u001b[0m \u001b[0mtest_value\u001b[0m \u001b[1;32min\u001b[0m \u001b[0mtest_values\u001b[0m\u001b[1;33m:\u001b[0m\u001b[1;33m\u001b[0m\u001b[0m\n\u001b[1;32m----> 7\u001b[1;33m     \u001b[0mdo_test\u001b[0m\u001b[1;33m(\u001b[0m\u001b[0mtest_value\u001b[0m\u001b[1;33m)\u001b[0m\u001b[1;33m\u001b[0m\u001b[0m\n\u001b[0m",
      "\u001b[1;32m<ipython-input-73-c8a538190c57>\u001b[0m in \u001b[0;36mdo_test\u001b[1;34m(value)\u001b[0m\n\u001b[0;32m      6\u001b[0m     \u001b[0mequal_to_points_of_interest\u001b[0m \u001b[1;33m=\u001b[0m \u001b[0mround\u001b[0m\u001b[1;33m(\u001b[0m\u001b[0mcalc_value\u001b[0m\u001b[1;33m,\u001b[0m \u001b[1;36m5\u001b[0m\u001b[1;33m)\u001b[0m \u001b[1;33m==\u001b[0m \u001b[0mround\u001b[0m\u001b[1;33m(\u001b[0m\u001b[0mpre_calc_value\u001b[0m\u001b[1;33m,\u001b[0m \u001b[1;36m5\u001b[0m\u001b[1;33m)\u001b[0m\u001b[1;33m\u001b[0m\u001b[0m\n\u001b[0;32m      7\u001b[0m     \u001b[0mprint\u001b[0m\u001b[1;33m(\u001b[0m\u001b[0mvalue\u001b[0m\u001b[1;33m,\u001b[0m \u001b[0mcalc_value\u001b[0m\u001b[1;33m,\u001b[0m \u001b[0mpre_calc_value\u001b[0m\u001b[1;33m,\u001b[0m \u001b[0mequal_to_points_of_interest\u001b[0m\u001b[1;33m,\u001b[0m \u001b[0mused_x\u001b[0m\u001b[1;33m)\u001b[0m\u001b[1;33m\u001b[0m\u001b[0m\n\u001b[1;32m----> 8\u001b[1;33m     \u001b[1;32massert\u001b[0m\u001b[1;33m(\u001b[0m\u001b[0mequal_to_points_of_interest\u001b[0m\u001b[1;33m)\u001b[0m\u001b[1;33m\u001b[0m\u001b[0m\n\u001b[0m",
      "\u001b[1;31mAssertionError\u001b[0m: "
     ]
    }
   ],
   "source": [
    "test_values = [ \n",
    "    DEGREES_EPSILON, 0.1, 38, 55, 90, 100, 148, 167, 180, 190, 223, 249,\n",
    "    261, 285, 305, 319, 339, 340, 285, 305, 319, 339, 340, 360\n",
    "]\n",
    "    \n",
    "for test_value in test_values:\n",
    "    do_test(test_value)"
   ]
  },
  {
   "cell_type": "code",
   "execution_count": 86,
   "metadata": {
    "collapsed": true
   },
   "outputs": [],
   "source": [
    "def calc_test():\n",
    "    for n in range(1,26):\n",
    "        for angle in range(0,361):\n",
    "            result = calc_tan_radians(angle)"
   ]
  },
  {
   "cell_type": "code",
   "execution_count": 87,
   "metadata": {},
   "outputs": [
    {
     "name": "stdout",
     "output_type": "stream",
     "text": [
      "10000000 loops, best of 3: 20.9 ns per loop\n"
     ]
    }
   ],
   "source": [
    "%timeit calc_test"
   ]
  },
  {
   "cell_type": "code",
   "execution_count": 88,
   "metadata": {
    "collapsed": true
   },
   "outputs": [],
   "source": [
    "def pre_calc_test():\n",
    "    for n in range(1,26):\n",
    "        for angle in range(0,361):\n",
    "            result = get_tan_radains(angle)"
   ]
  },
  {
   "cell_type": "code",
   "execution_count": 89,
   "metadata": {},
   "outputs": [
    {
     "name": "stdout",
     "output_type": "stream",
     "text": [
      "100 loops, best of 3: 9.67 ms per loop\n"
     ]
    }
   ],
   "source": [
    "%timeit pre_calc_test()"
   ]
  },
  {
   "cell_type": "markdown",
   "metadata": {},
   "source": [
    "Looks like prebaked isn't quicker, perhaps if we get the index of the first ray and then slice the next n rays it could be comparitive?"
   ]
  },
  {
   "cell_type": "code",
   "execution_count": 83,
   "metadata": {},
   "outputs": [
    {
     "data": {
      "text/plain": [
       "732816"
      ]
     },
     "execution_count": 83,
     "metadata": {},
     "output_type": "execute_result"
    }
   ],
   "source": [
    "from sys import getsizeof\n",
    "getsizeof(pre_calc_tan_radians)"
   ]
  },
  {
   "cell_type": "code",
   "execution_count": 85,
   "metadata": {
    "collapsed": true
   },
   "outputs": [],
   "source": [
    "pre_calc_test()"
   ]
  },
  {
   "cell_type": "code",
   "execution_count": null,
   "metadata": {
    "collapsed": true
   },
   "outputs": [],
   "source": []
  }
 ],
 "metadata": {
  "kernelspec": {
   "display_name": "Python 3",
   "language": "python",
   "name": "python3"
  },
  "language_info": {
   "codemirror_mode": {
    "name": "ipython",
    "version": 3
   },
   "file_extension": ".py",
   "mimetype": "text/x-python",
   "name": "python",
   "nbconvert_exporter": "python",
   "pygments_lexer": "ipython3",
   "version": "3.6.1"
  }
 },
 "nbformat": 4,
 "nbformat_minor": 2
}
