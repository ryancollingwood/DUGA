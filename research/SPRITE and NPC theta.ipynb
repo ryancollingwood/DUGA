{
 "cells": [
  {
   "cell_type": "markdown",
   "metadata": {},
   "source": [
    "# Overview\n",
    "\n",
    "Both SPRITE and NPC have a theta calculation. Are they related? Which is faster?"
   ]
  },
  {
   "cell_type": "code",
   "execution_count": 1,
   "metadata": {
    "collapsed": true
   },
   "outputs": [],
   "source": [
    "import math\n",
    "import random"
   ]
  },
  {
   "cell_type": "markdown",
   "metadata": {},
   "source": [
    "in NPC\n",
    "```python\n",
    "   def get_theta(self, xpos: float, ypos: float):\n",
    "        \"\"\"\n",
    "        Calculate the theta, postheta, and side for the NPC\n",
    "        :param xpos:\n",
    "        :param ypos:\n",
    "        :return:\n",
    "        \"\"\"\n",
    "        theta = math.atan2(-ypos, xpos) % (2 * math.pi)\n",
    "        theta = math.degrees(theta)\n",
    "\n",
    "        self.postheta = theta\n",
    "        theta -= self.face\n",
    "\n",
    "        if theta < 0:\n",
    "            theta += 360\n",
    "        elif theta > 360:\n",
    "            theta -= 360\n",
    "\n",
    "        self.theta = theta\n",
    "        self.set_side(self.directional_sprite.get_side_for_theta(theta))\n",
    "\n",
    "        return theta\n",
    "```"
   ]
  },
  {
   "cell_type": "code",
   "execution_count": 2,
   "metadata": {
    "collapsed": true
   },
   "outputs": [],
   "source": [
    " def npc_theta(xpos: float, ypos: float):\n",
    "    \"\"\"\n",
    "    Calculate the theta, postheta, and side for the NPC\n",
    "    :param xpos:\n",
    "    :param ypos:\n",
    "    :return:\n",
    "    \"\"\"\n",
    "    theta = math.atan2(-ypos, xpos) % (2 * math.pi)\n",
    "    theta = math.degrees(theta)\n",
    "\n",
    "    if theta < 0:\n",
    "        theta += 360\n",
    "    elif theta > 360:\n",
    "        theta -= 360\n",
    "\n",
    "    return theta"
   ]
  },
  {
   "cell_type": "markdown",
   "metadata": {},
   "source": [
    "in SPRITE\n",
    "\n",
    "```python\n",
    "   def get_pos(self):\n",
    "        \"\"\"\n",
    "        Determine position relative to the player.\n",
    "        :return:\n",
    "        \"\"\"\n",
    "        angle = SETTINGS.player_angle\n",
    "        fov = SETTINGS.fov\n",
    "\n",
    "        xpos = self.rect.centerx - SETTINGS.player_rect[0]\n",
    "        ypos = SETTINGS.player_rect[1] - self.rect.centery\n",
    "\n",
    "        dist = math.sqrt(xpos * xpos + ypos * ypos)\n",
    "        if dist == 0:\n",
    "            dist += 0.0001\n",
    "        self.distance = dist\n",
    "\n",
    "        thetaTemp = math.atan2(ypos, xpos)\n",
    "        thetaTemp = math.degrees(thetaTemp)\n",
    "        if thetaTemp < 0:\n",
    "            thetaTemp += 360\n",
    "\n",
    "        self.theta = thetaTemp\n",
    "\n",
    "        yTmp = angle + (fov / 2) - thetaTemp\n",
    "        if thetaTemp > 270 and angle < 90:\n",
    "            yTmp = angle + (fov / 2) - thetaTemp + 360\n",
    "        if angle > 270 and thetaTemp < 90:\n",
    "            yTmp = angle + (fov / 2) - thetaTemp - 360\n",
    "\n",
    "        xTmp = yTmp * SETTINGS.canvas_actual_width / fov\n",
    "\n",
    "        sprite_height = int((self.rect.height / dist) * (100 / math.tan(math.radians(fov * 0.8))))\n",
    "        if sprite_height > 2500:\n",
    "            sprite_height = 2500\n",
    "\n",
    "        sprite_width = int(self.rect.width / self.rect.height * sprite_height)\n",
    "\n",
    "        if xTmp > (0 - sprite_width) and xTmp < (SETTINGS.canvas_actual_width + sprite_width):\n",
    "            SETTINGS.zbuffer.append(self)\n",
    "\n",
    "            if self.parent:\n",
    "                self.parent.in_canvas = True\n",
    "        else:\n",
    "            if self.parent:\n",
    "                self.parent.in_canvas = False\n",
    "\n",
    "        self.new_size = pygame.transform.scale(self.texture, (sprite_width, sprite_height))\n",
    "        self.new_rect = self.new_size.get_rect()\n",
    "        self.new_rect.center = (xTmp, SETTINGS.canvas_target_height / 2)\n",
    "        if self.parent:\n",
    "            self.parent.hit_rect = self.new_rect\n",
    "```"
   ]
  },
  {
   "cell_type": "code",
   "execution_count": 3,
   "metadata": {
    "collapsed": true
   },
   "outputs": [],
   "source": [
    "def sprite_theta(xpos, ypos):\n",
    "    \"\"\"\n",
    "    Determine position relative to the player.\n",
    "    :return:\n",
    "    \"\"\"\n",
    "    dist = math.sqrt(xpos * xpos + ypos * ypos)\n",
    "    if dist == 0:\n",
    "        dist += 0.0001    \n",
    "\n",
    "    thetaTemp = math.atan2(ypos, xpos)\n",
    "    thetaTemp = math.degrees(thetaTemp)\n",
    "    if thetaTemp < 0:\n",
    "        thetaTemp += 360\n",
    "\n",
    "    return thetaTemp\n"
   ]
  },
  {
   "cell_type": "markdown",
   "metadata": {},
   "source": [
    "Helper function for generatingsome co-ordinates"
   ]
  },
  {
   "cell_type": "code",
   "execution_count": 4,
   "metadata": {},
   "outputs": [],
   "source": [
    "def get_co_ords(size):\n",
    "    x_s = [x for x in random.sample(list(range(size+100)), size)]\n",
    "    y_s = [y for y in random.sample(list(range(size+100)), size)]\n",
    "    \n",
    "    return list(zip(x_s, y_s))"
   ]
  },
  {
   "cell_type": "code",
   "execution_count": 5,
   "metadata": {},
   "outputs": [],
   "source": [
    "test_co_ords = get_co_ords(5)"
   ]
  },
  {
   "cell_type": "markdown",
   "metadata": {},
   "source": [
    "Adding the result of NPC theta and sprite theta we get 360. As NPC is caluculating the inverse as to facing the camera."
   ]
  },
  {
   "cell_type": "code",
   "execution_count": 6,
   "metadata": {},
   "outputs": [
    {
     "name": "stdout",
     "output_type": "stream",
     "text": [
      "\n",
      "(103, 103)\n",
      "npc_theta_result 315.0\n",
      "sprite_theta_result 45.0\n",
      "360.0\n",
      "\n",
      "(104, 76)\n",
      "npc_theta_result 323.84181456019166\n",
      "sprite_theta_result 36.15818543980833\n",
      "360.0\n",
      "\n",
      "(66, 57)\n",
      "npc_theta_result 319.18491612511843\n",
      "sprite_theta_result 40.81508387488159\n",
      "360.0\n",
      "\n",
      "(50, 37)\n",
      "npc_theta_result 323.49855887949366\n",
      "sprite_theta_result 36.501441120506314\n",
      "360.0\n",
      "\n",
      "(4, 22)\n",
      "npc_theta_result 280.304846468766\n",
      "sprite_theta_result 79.69515353123397\n",
      "360.0\n"
     ]
    }
   ],
   "source": [
    "for pos in test_co_ords:\n",
    "    npc_theta_result = npc_theta(pos[0], pos[1])\n",
    "    sprite_theta_result = sprite_theta(pos[0], pos[1])\n",
    "    \n",
    "    print(\"\")\n",
    "    print(pos)\n",
    "    print(\"npc_theta_result\", npc_theta_result)\n",
    "    print(\"sprite_theta_result\", sprite_theta_result)\n",
    "    print(sprite_theta_result + npc_theta_result)"
   ]
  },
  {
   "cell_type": "code",
   "execution_count": 7,
   "metadata": {},
   "outputs": [
    {
     "name": "stdout",
     "output_type": "stream",
     "text": [
      "The slowest run took 10.60 times longer than the fastest. This could mean that an intermediate result is being cached.\n",
      "1000000 loops, best of 3: 670 ns per loop\n"
     ]
    }
   ],
   "source": [
    "%timeit npc_theta(pos[0], pos[1])"
   ]
  },
  {
   "cell_type": "code",
   "execution_count": 8,
   "metadata": {},
   "outputs": [
    {
     "name": "stdout",
     "output_type": "stream",
     "text": [
      "The slowest run took 9.09 times longer than the fastest. This could mean that an intermediate result is being cached.\n",
      "1000000 loops, best of 3: 737 ns per loop\n"
     ]
    }
   ],
   "source": [
    "%timeit sprite_theta(pos[0], pos[1])"
   ]
  },
  {
   "cell_type": "markdown",
   "metadata": {},
   "source": [
    "Some minor difference for a single co-ordinates, lets see what happens with many co-ordinates"
   ]
  },
  {
   "cell_type": "code",
   "execution_count": 9,
   "metadata": {
    "collapsed": true
   },
   "outputs": [],
   "source": [
    "def test_npc_theta(co_ords):\n",
    "    return [npc_theta(pos[0], pos[1]) for pos in co_ords]            "
   ]
  },
  {
   "cell_type": "code",
   "execution_count": 10,
   "metadata": {
    "collapsed": true
   },
   "outputs": [],
   "source": [
    "def sprite_theta_theta(co_ords):\n",
    "    return [sprite_theta(pos[0], pos[1]) for pos in co_ords]"
   ]
  },
  {
   "cell_type": "code",
   "execution_count": 11,
   "metadata": {
    "collapsed": true
   },
   "outputs": [],
   "source": [
    "test_co_ords = get_co_ords(30)"
   ]
  },
  {
   "cell_type": "code",
   "execution_count": 12,
   "metadata": {},
   "outputs": [
    {
     "name": "stdout",
     "output_type": "stream",
     "text": [
      "100000 loops, best of 3: 19.4 µs per loop\n"
     ]
    }
   ],
   "source": [
    "%timeit test_npc_theta(test_co_ords)"
   ]
  },
  {
   "cell_type": "code",
   "execution_count": 13,
   "metadata": {},
   "outputs": [
    {
     "name": "stdout",
     "output_type": "stream",
     "text": [
      "The slowest run took 4.46 times longer than the fastest. This could mean that an intermediate result is being cached.\n",
      "10000 loops, best of 3: 22.5 µs per loop\n"
     ]
    }
   ],
   "source": [
    "%timeit sprite_theta_theta(test_co_ords)"
   ]
  },
  {
   "cell_type": "markdown",
   "metadata": {},
   "source": [
    "# Numpy\n",
    "\n",
    "Can we use numpy to speed things along?"
   ]
  },
  {
   "cell_type": "code",
   "execution_count": 14,
   "metadata": {
    "collapsed": true
   },
   "outputs": [],
   "source": [
    "import numpy as np"
   ]
  },
  {
   "cell_type": "markdown",
   "metadata": {},
   "source": [
    "```\n",
    "    theta = math.atan2(-ypos, xpos) % (2 * math.pi)\n",
    "    theta = math.degrees(theta)\n",
    "\n",
    "    if theta < 0:\n",
    "        theta += 360\n",
    "    elif theta > 360:\n",
    "        theta -= 360\n",
    "```"
   ]
  },
  {
   "cell_type": "code",
   "execution_count": 15,
   "metadata": {},
   "outputs": [],
   "source": [
    "def get_np_co_ords(co_ords):\n",
    "    x = np.array([pos[0] for pos in co_ords])\n",
    "    y = np.array([pos[1] for pos in co_ords])\n",
    "    return x, y"
   ]
  },
  {
   "cell_type": "code",
   "execution_count": 16,
   "metadata": {},
   "outputs": [],
   "source": [
    "co_ords = get_co_ords(100)\n",
    "entities_x, entities_y = get_np_co_ords(co_ords)"
   ]
  },
  {
   "cell_type": "markdown",
   "metadata": {},
   "source": [
    "as per http://lagrange.univ-lyon1.fr/docs/numpy/1.11.0/reference/generated/numpy.arctan2.html#numpy.arctan2, y goes first"
   ]
  },
  {
   "cell_type": "code",
   "execution_count": 17,
   "metadata": {},
   "outputs": [],
   "source": [
    "def np_theta(x, y):\n",
    "    return 360 - np.arctan2(y ,x) * (180 / np.pi)"
   ]
  },
  {
   "cell_type": "code",
   "execution_count": 18,
   "metadata": {},
   "outputs": [
    {
     "data": {
      "text/plain": [
       "array([ 277.9071627 ,  333.43494882,  278.4146817 ,  289.15561245,\n",
       "        304.50852299,  295.51387043,  339.78973078,  348.40782459,\n",
       "        314.12532323,  318.43363036,  289.67409857,  289.68332755,\n",
       "        319.56322975,  291.58979169,  352.67359334,  299.39605285,\n",
       "        283.82205464,  304.93400897,  285.19524853,  344.40718906,\n",
       "        288.43494882,  300.03328044,  291.26905984,  320.94151979,\n",
       "        357.61405597,  306.57303098,  293.30884525,  301.32869287,\n",
       "        322.52382044,  299.08192683,  284.8815297 ,  343.79622579,\n",
       "        322.45024907,  350.34010692,  327.52880771,  287.19854122,\n",
       "        313.74919919,  311.60028584,  335.15761089,  291.65043281,\n",
       "        331.64503821,  352.52266969,  309.56746013,  353.76291992,\n",
       "        319.17298448,  327.61932229,  313.50566641,  286.94922423,\n",
       "        322.28402365,  329.03624347,  333.43494882,  289.7326895 ,\n",
       "        359.36692323,  275.11731485,  273.69138599,  357.29512401,\n",
       "        318.50353164,  271.90915243,  306.43548136,  344.90447916,\n",
       "        271.97493401,  349.070512  ,  320.55994726,  313.18580809,\n",
       "        319.71475452,  356.55778471,  326.56997205,  346.71134587,\n",
       "        338.30489054,  309.46021193,  278.88065915,  311.47148382,\n",
       "        294.97391091,  301.41568582,  328.6097319 ,  289.4765755 ,\n",
       "        304.38034472,  277.18853714,  317.01459879,  320.67035734,\n",
       "        304.69515353,  331.41358388,  338.67560263,  287.37403713,\n",
       "        324.38914756,  272.3735958 ,  303.02386756,  340.36740446,\n",
       "        344.10251026,  302.15229514,  286.92751306,  300.96375653,\n",
       "        333.1780188 ,  273.57633437,  337.79652147,  331.11341823,\n",
       "        324.92624551,  273.95755311,  358.84266693,  322.50473245])"
      ]
     },
     "execution_count": 18,
     "metadata": {},
     "output_type": "execute_result"
    }
   ],
   "source": [
    "np_result = np_theta(entities_x, entities_y)\n",
    "np_result"
   ]
  },
  {
   "cell_type": "code",
   "execution_count": 19,
   "metadata": {},
   "outputs": [
    {
     "data": {
      "text/plain": [
       "[277.90716270295843,\n",
       " 333.434948822922,\n",
       " 278.4146817003066,\n",
       " 289.15561244543966,\n",
       " 304.50852298766836,\n",
       " 295.51387042753424,\n",
       " 339.7897307848428,\n",
       " 348.4078245897089,\n",
       " 314.1253232288787,\n",
       " 318.4336303624505,\n",
       " 289.6740985722506,\n",
       " 289.68332754644103,\n",
       " 319.56322975423785,\n",
       " 291.58979168771396,\n",
       " 352.67359333983046,\n",
       " 299.39605285494326,\n",
       " 283.8220546357317,\n",
       " 304.93400896676536,\n",
       " 285.19524852681985,\n",
       " 344.40718906073363,\n",
       " 288.434948822922,\n",
       " 300.0332804359951,\n",
       " 291.26905983922853,\n",
       " 320.9415197937528,\n",
       " 357.61405596961123,\n",
       " 306.5730309785193,\n",
       " 293.3088452451268,\n",
       " 301.3286928678042,\n",
       " 322.5238204386386,\n",
       " 299.0819268340175,\n",
       " 284.88152970314053,\n",
       " 343.79622578510924,\n",
       " 322.4502490686562,\n",
       " 350.34010692155766,\n",
       " 327.5288077091515,\n",
       " 287.19854122006586,\n",
       " 313.7491991852346,\n",
       " 311.6002858408767,\n",
       " 335.1576108945448,\n",
       " 291.65043281467024,\n",
       " 331.64503821467594,\n",
       " 352.5226696933392,\n",
       " 309.56746013262295,\n",
       " 353.7629199235415,\n",
       " 319.17298447607953,\n",
       " 327.61932229343074,\n",
       " 313.5056664087334,\n",
       " 286.94922423382144,\n",
       " 322.28402365441684,\n",
       " 329.03624346792645,\n",
       " 333.434948822922,\n",
       " 289.73268949966103,\n",
       " 359.36692322856885,\n",
       " 275.1173148499727,\n",
       " 273.6913859864513,\n",
       " 357.29512401426433,\n",
       " 318.50353164478446,\n",
       " 271.9091524329964,\n",
       " 306.4354813574244,\n",
       " 344.9044791557889,\n",
       " 271.97493401088195,\n",
       " 349.0705119978196,\n",
       " 320.55994726330954,\n",
       " 313.18580809097006,\n",
       " 319.7147545187049,\n",
       " 356.55778471410264,\n",
       " 326.569972047902,\n",
       " 346.71134586523794,\n",
       " 338.30489053920314,\n",
       " 309.4602119264455,\n",
       " 278.8806591505202,\n",
       " 311.4714838241433,\n",
       " 294.97391090588343,\n",
       " 301.4156858235613,\n",
       " 328.60973189581216,\n",
       " 289.47657549893194,\n",
       " 304.38034472384487,\n",
       " 277.1885371427366,\n",
       " 317.01459878787057,\n",
       " 320.6703573438939,\n",
       " 304.695153531234,\n",
       " 331.413583882566,\n",
       " 338.67560263350634,\n",
       " 287.3740371326578,\n",
       " 324.38914756133124,\n",
       " 272.37359580223665,\n",
       " 303.02386755579664,\n",
       " 340.3674044624696,\n",
       " 344.1025102580749,\n",
       " 302.15229514128237,\n",
       " 286.92751306414704,\n",
       " 300.9637565320735,\n",
       " 333.1780187984185,\n",
       " 273.5763343749974,\n",
       " 337.7965214679426,\n",
       " 331.1134182330893,\n",
       " 324.9262455066517,\n",
       " 273.95755311412785,\n",
       " 358.8426669318705,\n",
       " 322.5047324506119]"
      ]
     },
     "execution_count": 19,
     "metadata": {},
     "output_type": "execute_result"
    }
   ],
   "source": [
    "npc_result = test_npc_theta(co_ords)\n",
    "npc_result"
   ]
  },
  {
   "cell_type": "markdown",
   "metadata": {},
   "source": [
    "So so some variation whats the damage?"
   ]
  },
  {
   "cell_type": "code",
   "execution_count": 27,
   "metadata": {},
   "outputs": [
    {
     "name": "stdout",
     "output_type": "stream",
     "text": [
      "277.90716270295843 277.907162703 0.0\n",
      "333.434948822922 333.434948823 0.0\n",
      "278.4146817003066 278.4146817 0.0\n",
      "289.15561244543966 289.155612445 0.0\n",
      "304.50852298766836 304.508522988 5.684341886080802e-14\n",
      "295.51387042753424 295.513870428 0.0\n",
      "339.7897307848428 339.789730785 0.0\n",
      "348.4078245897089 348.40782459 0.0\n",
      "314.1253232288787 314.125323229 0.0\n",
      "318.4336303624505 318.433630362 0.0\n",
      "289.6740985722506 289.674098572 0.0\n",
      "289.68332754644103 289.683327546 0.0\n",
      "319.56322975423785 319.563229754 0.0\n",
      "291.58979168771396 291.589791688 0.0\n",
      "352.67359333983046 352.67359334 0.0\n",
      "299.39605285494326 299.396052855 0.0\n",
      "283.8220546357317 283.822054636 5.684341886080802e-14\n",
      "304.93400896676536 304.934008967 5.684341886080802e-14\n",
      "285.19524852681985 285.195248527 5.684341886080802e-14\n",
      "344.40718906073363 344.407189061 0.0\n",
      "288.434948822922 288.434948823 0.0\n",
      "300.0332804359951 300.033280436 5.684341886080802e-14\n",
      "291.26905983922853 291.269059839 0.0\n",
      "320.9415197937528 320.941519794 0.0\n",
      "357.61405596961123 357.61405597 5.684341886080802e-14\n",
      "306.5730309785193 306.573030979 5.684341886080802e-14\n",
      "293.3088452451268 293.308845245 0.0\n",
      "301.3286928678042 301.328692868 5.684341886080802e-14\n",
      "322.5238204386386 322.523820439 0.0\n",
      "299.0819268340175 299.081926834 0.0\n",
      "284.88152970314053 284.881529703 0.0\n",
      "343.79622578510924 343.796225785 0.0\n",
      "322.4502490686562 322.450249069 5.684341886080802e-14\n",
      "350.34010692155766 350.340106922 0.0\n",
      "327.5288077091515 327.528807709 0.0\n",
      "287.19854122006586 287.19854122 0.0\n",
      "313.7491991852346 313.749199185 0.0\n",
      "311.6002858408767 311.600285841 0.0\n",
      "335.1576108945448 335.157610895 0.0\n",
      "291.65043281467024 291.650432815 0.0\n",
      "331.64503821467594 331.645038215 0.0\n",
      "352.5226696933392 352.522669693 0.0\n",
      "309.56746013262295 309.567460133 0.0\n",
      "353.7629199235415 353.762919924 0.0\n",
      "319.17298447607953 319.172984476 5.684341886080802e-14\n",
      "327.61932229343074 327.619322293 0.0\n",
      "313.5056664087334 313.505666409 5.684341886080802e-14\n",
      "286.94922423382144 286.949224234 0.0\n",
      "322.28402365441684 322.284023654 0.0\n",
      "329.03624346792645 329.036243468 0.0\n",
      "333.434948822922 333.434948823 0.0\n",
      "289.73268949966103 289.7326895 5.684341886080802e-14\n",
      "359.36692322856885 359.366923229 0.0\n",
      "275.1173148499727 275.11731485 5.684341886080802e-14\n",
      "273.6913859864513 273.691385986 0.0\n",
      "357.29512401426433 357.295124014 0.0\n",
      "318.50353164478446 318.503531645 0.0\n",
      "271.9091524329964 271.909152433 0.0\n",
      "306.4354813574244 306.435481357 0.0\n",
      "344.9044791557889 344.904479156 0.0\n",
      "271.97493401088195 271.974934011 0.0\n",
      "349.0705119978196 349.070511998 0.0\n",
      "320.55994726330954 320.559947263 0.0\n",
      "313.18580809097006 313.185808091 0.0\n",
      "319.7147545187049 319.714754519 0.0\n",
      "356.55778471410264 356.557784714 0.0\n",
      "326.569972047902 326.569972048 0.0\n",
      "346.71134586523794 346.711345865 5.684341886080802e-14\n",
      "338.30489053920314 338.304890539 5.684341886080802e-14\n",
      "309.4602119264455 309.460211926 0.0\n",
      "278.8806591505202 278.880659151 5.684341886080802e-14\n",
      "311.4714838241433 311.471483824 5.684341886080802e-14\n",
      "294.97391090588343 294.973910906 5.684341886080802e-14\n",
      "301.4156858235613 301.415685824 0.0\n",
      "328.60973189581216 328.609731896 5.684341886080802e-14\n",
      "289.47657549893194 289.476575499 5.684341886080802e-14\n",
      "304.38034472384487 304.380344724 0.0\n",
      "277.1885371427366 277.188537143 5.684341886080802e-14\n",
      "317.01459878787057 317.014598788 0.0\n",
      "320.6703573438939 320.670357344 0.0\n",
      "304.695153531234 304.695153531 0.0\n",
      "331.413583882566 331.413583883 0.0\n",
      "338.67560263350634 338.675602634 5.684341886080802e-14\n",
      "287.3740371326578 287.374037133 0.0\n",
      "324.38914756133124 324.389147561 0.0\n",
      "272.37359580223665 272.373595802 0.0\n",
      "303.02386755579664 303.023867556 0.0\n",
      "340.3674044624696 340.367404462 0.0\n",
      "344.1025102580749 344.102510258 0.0\n",
      "302.15229514128237 302.152295141 0.0\n",
      "286.92751306414704 286.927513064 0.0\n",
      "300.9637565320735 300.963756532 0.0\n",
      "333.1780187984185 333.178018798 0.0\n",
      "273.5763343749974 273.576334375 0.0\n",
      "337.7965214679426 337.796521468 0.0\n",
      "331.1134182330893 331.113418233 0.0\n",
      "324.9262455066517 324.926245507 0.0\n",
      "273.95755311412785 273.957553114 0.0\n",
      "358.8426669318705 358.842666932 0.0\n",
      "322.5047324506119 322.504732451 5.684341886080802e-14\n"
     ]
    }
   ],
   "source": [
    "for index, val in enumerate(npc_result):\n",
    "    print(val, np_result[index], float(abs(val - np_result[index])))"
   ]
  },
  {
   "cell_type": "code",
   "execution_count": 29,
   "metadata": {},
   "outputs": [
    {
     "data": {
      "text/plain": [
       "1.0000000000000568"
      ]
     },
     "execution_count": 29,
     "metadata": {},
     "output_type": "execute_result"
    }
   ],
   "source": [
    "5.684341886080802e-14 + 1"
   ]
  },
  {
   "cell_type": "markdown",
   "metadata": {},
   "source": [
    "So apart from a negliable degree of inaccuracy aside is there any speed benefit?"
   ]
  },
  {
   "cell_type": "code",
   "execution_count": 21,
   "metadata": {},
   "outputs": [
    {
     "name": "stdout",
     "output_type": "stream",
     "text": [
      "The slowest run took 8.11 times longer than the fastest. This could mean that an intermediate result is being cached.\n",
      "100000 loops, best of 3: 5.14 µs per loop\n"
     ]
    }
   ],
   "source": [
    "%timeit 360 - np.arctan2(entities_y ,entities_x) * (180 / np.pi)"
   ]
  },
  {
   "cell_type": "code",
   "execution_count": 22,
   "metadata": {},
   "outputs": [
    {
     "name": "stdout",
     "output_type": "stream",
     "text": [
      "10000 loops, best of 3: 63.5 µs per loop\n"
     ]
    }
   ],
   "source": [
    "%timeit test_npc_theta(co_ords)"
   ]
  },
  {
   "cell_type": "markdown",
   "metadata": {},
   "source": [
    "So if we increase the number of co-ordinates"
   ]
  },
  {
   "cell_type": "code",
   "execution_count": 23,
   "metadata": {},
   "outputs": [],
   "source": [
    "co_ords = get_co_ords(1000)\n",
    "entities_x, entities_y = get_np_co_ords(co_ords)"
   ]
  },
  {
   "cell_type": "code",
   "execution_count": 24,
   "metadata": {},
   "outputs": [
    {
     "name": "stdout",
     "output_type": "stream",
     "text": [
      "10000 loops, best of 3: 29.7 µs per loop\n"
     ]
    }
   ],
   "source": [
    "%timeit 360 - np.arctan2(entities_y ,entities_x) * (180 / np.pi)"
   ]
  },
  {
   "cell_type": "code",
   "execution_count": 25,
   "metadata": {},
   "outputs": [
    {
     "name": "stdout",
     "output_type": "stream",
     "text": [
      "1000 loops, best of 3: 669 µs per loop\n"
     ]
    }
   ],
   "source": [
    "%timeit test_npc_theta(co_ords)"
   ]
  },
  {
   "cell_type": "markdown",
   "metadata": {},
   "source": [
    "the npc theta calc increased in a linear fashion, 10 times as longer for 10 times as many items.\n",
    "numpy calculation did not"
   ]
  },
  {
   "cell_type": "markdown",
   "metadata": {},
   "source": [
    "# Conclusion\n",
    "\n",
    "Apart from some trig to iron out. It may be worthwhile to store npcs, sprite, walls - map positions in a vector fashion do distance and angle calculations using numpy."
   ]
  }
 ],
 "metadata": {
  "kernelspec": {
   "display_name": "Python 3",
   "language": "python",
   "name": "python3"
  },
  "language_info": {
   "codemirror_mode": {
    "name": "ipython",
    "version": 3
   },
   "file_extension": ".py",
   "mimetype": "text/x-python",
   "name": "python",
   "nbconvert_exporter": "python",
   "pygments_lexer": "ipython3",
   "version": "3.6.1"
  }
 },
 "nbformat": 4,
 "nbformat_minor": 2
}
