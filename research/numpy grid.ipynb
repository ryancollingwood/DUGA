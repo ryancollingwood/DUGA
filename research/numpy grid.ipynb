{
 "cells": [
  {
   "cell_type": "markdown",
   "metadata": {
    "toc": true
   },
   "source": [
    "<h1>Table of Contents<span class=\"tocSkip\"></span></h1>\n",
    "<div class=\"toc\"><ul class=\"toc-item\"><li><span><a href=\"#TODO\" data-toc-modified-id=\"TODO-1\">TODO</a></span></li></ul></div>"
   ]
  },
  {
   "cell_type": "code",
   "execution_count": 2,
   "metadata": {
    "ExecuteTime": {
     "end_time": "2018-10-23T06:12:56.406859Z",
     "start_time": "2018-10-23T06:12:56.393865Z"
    },
    "collapsed": true
   },
   "outputs": [],
   "source": [
    "%matplotlib inline"
   ]
  },
  {
   "cell_type": "code",
   "execution_count": 3,
   "metadata": {
    "ExecuteTime": {
     "end_time": "2018-10-23T06:10:45.307271Z",
     "start_time": "2018-10-23T06:10:45.304267Z"
    },
    "collapsed": true
   },
   "outputs": [],
   "source": [
    "import numpy as np\n",
    "import pandas as pd"
   ]
  },
  {
   "cell_type": "code",
   "execution_count": 4,
   "metadata": {
    "ExecuteTime": {
     "end_time": "2018-10-23T06:10:45.316263Z",
     "start_time": "2018-10-23T06:10:45.308267Z"
    },
    "collapsed": true
   },
   "outputs": [],
   "source": [
    "#import matplotlib.pyplot as plt"
   ]
  },
  {
   "cell_type": "markdown",
   "metadata": {},
   "source": [
    "Let's define the maximum size of the x (width) and y (width) of our grid."
   ]
  },
  {
   "cell_type": "code",
   "execution_count": 5,
   "metadata": {
    "ExecuteTime": {
     "end_time": "2018-10-23T06:10:45.342269Z",
     "start_time": "2018-10-23T06:10:45.339266Z"
    },
    "collapsed": true
   },
   "outputs": [],
   "source": [
    "x_max = 9\n",
    "y_max = 9"
   ]
  },
  {
   "cell_type": "markdown",
   "metadata": {},
   "source": [
    "np.indices achieves the same \n",
    "~~as you'll see below using `np.mgrid` we get two arrays which we can use to create x,y pairs that describe the grid.~~"
   ]
  },
  {
   "cell_type": "code",
   "execution_count": 6,
   "metadata": {
    "ExecuteTime": {
     "end_time": "2018-10-23T06:10:45.377300Z",
     "start_time": "2018-10-23T06:10:45.369268Z"
    }
   },
   "outputs": [
    {
     "name": "stdout",
     "output_type": "stream",
     "text": [
      "[[0 1 2 3 4 5 6 7 8]\n",
      " [0 1 2 3 4 5 6 7 8]\n",
      " [0 1 2 3 4 5 6 7 8]\n",
      " [0 1 2 3 4 5 6 7 8]\n",
      " [0 1 2 3 4 5 6 7 8]\n",
      " [0 1 2 3 4 5 6 7 8]\n",
      " [0 1 2 3 4 5 6 7 8]\n",
      " [0 1 2 3 4 5 6 7 8]\n",
      " [0 1 2 3 4 5 6 7 8]]\n",
      "\n",
      "[[0 0 0 0 0 0 0 0 0]\n",
      " [1 1 1 1 1 1 1 1 1]\n",
      " [2 2 2 2 2 2 2 2 2]\n",
      " [3 3 3 3 3 3 3 3 3]\n",
      " [4 4 4 4 4 4 4 4 4]\n",
      " [5 5 5 5 5 5 5 5 5]\n",
      " [6 6 6 6 6 6 6 6 6]\n",
      " [7 7 7 7 7 7 7 7 7]\n",
      " [8 8 8 8 8 8 8 8 8]]\n"
     ]
    }
   ],
   "source": [
    "#y_mesh, x_mesh = np.mgrid[0:y_max, 0:x_max]\n",
    "y_mesh, x_mesh = np.indices((y_max, x_max))\n",
    "print(x_mesh)\n",
    "print(\"\")\n",
    "print(y_mesh)"
   ]
  },
  {
   "cell_type": "markdown",
   "metadata": {},
   "source": [
    "however we're drawing in pixels, assuming a fixed square pixel size per grid we'll call `tile_size`"
   ]
  },
  {
   "cell_type": "code",
   "execution_count": 7,
   "metadata": {
    "ExecuteTime": {
     "end_time": "2018-10-23T06:10:45.406283Z",
     "start_time": "2018-10-23T06:10:45.402271Z"
    },
    "collapsed": true
   },
   "outputs": [],
   "source": [
    "tile_size = 64.0\n",
    "tile_center = (tile_size / 2.0)"
   ]
  },
  {
   "cell_type": "markdown",
   "metadata": {},
   "source": [
    "However 0 is going to be a problem for us, when calculating pixel distances so lets bump every up by 1.\n",
    "\n",
    "Additionally we want to have the center value, so take the tile size and halve it."
   ]
  },
  {
   "cell_type": "code",
   "execution_count": 8,
   "metadata": {
    "ExecuteTime": {
     "end_time": "2018-10-23T06:10:45.445280Z",
     "start_time": "2018-10-23T06:10:45.439265Z"
    }
   },
   "outputs": [
    {
     "name": "stdout",
     "output_type": "stream",
     "text": [
      "[[  32.   64.   96.  128.  160.  192.  224.  256.  288.]\n",
      " [  32.   64.   96.  128.  160.  192.  224.  256.  288.]\n",
      " [  32.   64.   96.  128.  160.  192.  224.  256.  288.]\n",
      " [  32.   64.   96.  128.  160.  192.  224.  256.  288.]\n",
      " [  32.   64.   96.  128.  160.  192.  224.  256.  288.]\n",
      " [  32.   64.   96.  128.  160.  192.  224.  256.  288.]\n",
      " [  32.   64.   96.  128.  160.  192.  224.  256.  288.]\n",
      " [  32.   64.   96.  128.  160.  192.  224.  256.  288.]\n",
      " [  32.   64.   96.  128.  160.  192.  224.  256.  288.]]\n"
     ]
    }
   ],
   "source": [
    "x_mesh = (x_mesh +1) * tile_center\n",
    "print(x_mesh)"
   ]
  },
  {
   "cell_type": "code",
   "execution_count": 9,
   "metadata": {
    "ExecuteTime": {
     "end_time": "2018-10-23T06:10:45.461265Z",
     "start_time": "2018-10-23T06:10:45.447272Z"
    }
   },
   "outputs": [
    {
     "name": "stdout",
     "output_type": "stream",
     "text": [
      "[[  32.   32.   32.   32.   32.   32.   32.   32.   32.]\n",
      " [  64.   64.   64.   64.   64.   64.   64.   64.   64.]\n",
      " [  96.   96.   96.   96.   96.   96.   96.   96.   96.]\n",
      " [ 128.  128.  128.  128.  128.  128.  128.  128.  128.]\n",
      " [ 160.  160.  160.  160.  160.  160.  160.  160.  160.]\n",
      " [ 192.  192.  192.  192.  192.  192.  192.  192.  192.]\n",
      " [ 224.  224.  224.  224.  224.  224.  224.  224.  224.]\n",
      " [ 256.  256.  256.  256.  256.  256.  256.  256.  256.]\n",
      " [ 288.  288.  288.  288.  288.  288.  288.  288.  288.]]\n"
     ]
    }
   ],
   "source": [
    "y_mesh = (y_mesh +1) * tile_center\n",
    "print(y_mesh)"
   ]
  },
  {
   "cell_type": "markdown",
   "metadata": {},
   "source": [
    "If we want to get the individual items use the `ravel` function."
   ]
  },
  {
   "cell_type": "code",
   "execution_count": 10,
   "metadata": {
    "ExecuteTime": {
     "end_time": "2018-10-23T06:10:45.488265Z",
     "start_time": "2018-10-23T06:10:45.482264Z"
    }
   },
   "outputs": [
    {
     "data": {
      "text/plain": [
       "array([  32.,   64.,   96.,  128.,  160.,  192.,  224.,  256.,  288.,\n",
       "         32.,   64.,   96.,  128.,  160.,  192.,  224.,  256.,  288.,\n",
       "         32.,   64.,   96.,  128.,  160.,  192.,  224.,  256.,  288.,\n",
       "         32.,   64.,   96.,  128.,  160.,  192.,  224.,  256.,  288.,\n",
       "         32.,   64.,   96.,  128.,  160.,  192.,  224.,  256.,  288.,\n",
       "         32.,   64.,   96.,  128.,  160.,  192.,  224.,  256.,  288.,\n",
       "         32.,   64.,   96.,  128.,  160.,  192.,  224.,  256.,  288.,\n",
       "         32.,   64.,   96.,  128.,  160.,  192.,  224.,  256.,  288.,\n",
       "         32.,   64.,   96.,  128.,  160.,  192.,  224.,  256.,  288.])"
      ]
     },
     "execution_count": 10,
     "metadata": {},
     "output_type": "execute_result"
    }
   ],
   "source": [
    "x_mesh.ravel()"
   ]
  },
  {
   "cell_type": "code",
   "execution_count": 11,
   "metadata": {
    "ExecuteTime": {
     "end_time": "2018-10-23T06:10:45.502266Z",
     "start_time": "2018-10-23T06:10:45.490267Z"
    }
   },
   "outputs": [
    {
     "data": {
      "text/plain": [
       "array([  32.,   32.,   32.,   32.,   32.,   32.,   32.,   32.,   32.,\n",
       "         64.,   64.,   64.,   64.,   64.,   64.,   64.,   64.,   64.,\n",
       "         96.,   96.,   96.,   96.,   96.,   96.,   96.,   96.,   96.,\n",
       "        128.,  128.,  128.,  128.,  128.,  128.,  128.,  128.,  128.,\n",
       "        160.,  160.,  160.,  160.,  160.,  160.,  160.,  160.,  160.,\n",
       "        192.,  192.,  192.,  192.,  192.,  192.,  192.,  192.,  192.,\n",
       "        224.,  224.,  224.,  224.,  224.,  224.,  224.,  224.,  224.,\n",
       "        256.,  256.,  256.,  256.,  256.,  256.,  256.,  256.,  256.,\n",
       "        288.,  288.,  288.,  288.,  288.,  288.,  288.,  288.,  288.])"
      ]
     },
     "execution_count": 11,
     "metadata": {},
     "output_type": "execute_result"
    }
   ],
   "source": [
    "y_mesh.ravel()"
   ]
  },
  {
   "cell_type": "markdown",
   "metadata": {},
   "source": [
    "using numpy `dstack` to *Stack arrays in sequence depth wise (along third axis)* (https://docs.scipy.org/doc/numpy-1.15.1/reference/generated/numpy.dstack.html) we get something looking like a grid."
   ]
  },
  {
   "cell_type": "code",
   "execution_count": 12,
   "metadata": {
    "ExecuteTime": {
     "end_time": "2018-10-23T06:10:48.683734Z",
     "start_time": "2018-10-23T06:10:48.674727Z"
    }
   },
   "outputs": [
    {
     "data": {
      "text/plain": [
       "array([[  32.,   32.],\n",
       "       [  32.,   64.],\n",
       "       [  32.,   96.],\n",
       "       [  32.,  128.],\n",
       "       [  32.,  160.],\n",
       "       [  32.,  192.],\n",
       "       [  32.,  224.],\n",
       "       [  32.,  256.],\n",
       "       [  32.,  288.],\n",
       "       [  64.,   32.],\n",
       "       [  64.,   64.],\n",
       "       [  64.,   96.],\n",
       "       [  64.,  128.],\n",
       "       [  64.,  160.],\n",
       "       [  64.,  192.],\n",
       "       [  64.,  224.],\n",
       "       [  64.,  256.],\n",
       "       [  64.,  288.],\n",
       "       [  96.,   32.],\n",
       "       [  96.,   64.],\n",
       "       [  96.,   96.],\n",
       "       [  96.,  128.],\n",
       "       [  96.,  160.],\n",
       "       [  96.,  192.],\n",
       "       [  96.,  224.],\n",
       "       [  96.,  256.],\n",
       "       [  96.,  288.],\n",
       "       [ 128.,   32.],\n",
       "       [ 128.,   64.],\n",
       "       [ 128.,   96.],\n",
       "       [ 128.,  128.],\n",
       "       [ 128.,  160.],\n",
       "       [ 128.,  192.],\n",
       "       [ 128.,  224.],\n",
       "       [ 128.,  256.],\n",
       "       [ 128.,  288.],\n",
       "       [ 160.,   32.],\n",
       "       [ 160.,   64.],\n",
       "       [ 160.,   96.],\n",
       "       [ 160.,  128.],\n",
       "       [ 160.,  160.],\n",
       "       [ 160.,  192.],\n",
       "       [ 160.,  224.],\n",
       "       [ 160.,  256.],\n",
       "       [ 160.,  288.],\n",
       "       [ 192.,   32.],\n",
       "       [ 192.,   64.],\n",
       "       [ 192.,   96.],\n",
       "       [ 192.,  128.],\n",
       "       [ 192.,  160.],\n",
       "       [ 192.,  192.],\n",
       "       [ 192.,  224.],\n",
       "       [ 192.,  256.],\n",
       "       [ 192.,  288.],\n",
       "       [ 224.,   32.],\n",
       "       [ 224.,   64.],\n",
       "       [ 224.,   96.],\n",
       "       [ 224.,  128.],\n",
       "       [ 224.,  160.],\n",
       "       [ 224.,  192.],\n",
       "       [ 224.,  224.],\n",
       "       [ 224.,  256.],\n",
       "       [ 224.,  288.],\n",
       "       [ 256.,   32.],\n",
       "       [ 256.,   64.],\n",
       "       [ 256.,   96.],\n",
       "       [ 256.,  128.],\n",
       "       [ 256.,  160.],\n",
       "       [ 256.,  192.],\n",
       "       [ 256.,  224.],\n",
       "       [ 256.,  256.],\n",
       "       [ 256.,  288.],\n",
       "       [ 288.,   32.],\n",
       "       [ 288.,   64.],\n",
       "       [ 288.,   96.],\n",
       "       [ 288.,  128.],\n",
       "       [ 288.,  160.],\n",
       "       [ 288.,  192.],\n",
       "       [ 288.,  224.],\n",
       "       [ 288.,  256.],\n",
       "       [ 288.,  288.]])"
      ]
     },
     "execution_count": 12,
     "metadata": {},
     "output_type": "execute_result"
    }
   ],
   "source": [
    "# squeezing to remove empty arrays\n",
    "pixel_center_positions = np.squeeze(np.dstack([y_mesh.ravel(), x_mesh.ravel()]))\n",
    "pixel_center_positions"
   ]
  },
  {
   "cell_type": "markdown",
   "metadata": {},
   "source": [
    "however for easier accessing for humans let's reshape the above,"
   ]
  },
  {
   "cell_type": "code",
   "execution_count": 13,
   "metadata": {
    "ExecuteTime": {
     "end_time": "2018-10-23T06:10:59.945400Z",
     "start_time": "2018-10-23T06:10:59.938384Z"
    }
   },
   "outputs": [
    {
     "name": "stdout",
     "output_type": "stream",
     "text": [
      "[[[  32.   32.]\n",
      "  [  32.   64.]\n",
      "  [  32.   96.]\n",
      "  [  32.  128.]\n",
      "  [  32.  160.]\n",
      "  [  32.  192.]\n",
      "  [  32.  224.]\n",
      "  [  32.  256.]\n",
      "  [  32.  288.]]\n",
      "\n",
      " [[  64.   32.]\n",
      "  [  64.   64.]\n",
      "  [  64.   96.]\n",
      "  [  64.  128.]\n",
      "  [  64.  160.]\n",
      "  [  64.  192.]\n",
      "  [  64.  224.]\n",
      "  [  64.  256.]\n",
      "  [  64.  288.]]\n",
      "\n",
      " [[  96.   32.]\n",
      "  [  96.   64.]\n",
      "  [  96.   96.]\n",
      "  [  96.  128.]\n",
      "  [  96.  160.]\n",
      "  [  96.  192.]\n",
      "  [  96.  224.]\n",
      "  [  96.  256.]\n",
      "  [  96.  288.]]\n",
      "\n",
      " [[ 128.   32.]\n",
      "  [ 128.   64.]\n",
      "  [ 128.   96.]\n",
      "  [ 128.  128.]\n",
      "  [ 128.  160.]\n",
      "  [ 128.  192.]\n",
      "  [ 128.  224.]\n",
      "  [ 128.  256.]\n",
      "  [ 128.  288.]]\n",
      "\n",
      " [[ 160.   32.]\n",
      "  [ 160.   64.]\n",
      "  [ 160.   96.]\n",
      "  [ 160.  128.]\n",
      "  [ 160.  160.]\n",
      "  [ 160.  192.]\n",
      "  [ 160.  224.]\n",
      "  [ 160.  256.]\n",
      "  [ 160.  288.]]\n",
      "\n",
      " [[ 192.   32.]\n",
      "  [ 192.   64.]\n",
      "  [ 192.   96.]\n",
      "  [ 192.  128.]\n",
      "  [ 192.  160.]\n",
      "  [ 192.  192.]\n",
      "  [ 192.  224.]\n",
      "  [ 192.  256.]\n",
      "  [ 192.  288.]]\n",
      "\n",
      " [[ 224.   32.]\n",
      "  [ 224.   64.]\n",
      "  [ 224.   96.]\n",
      "  [ 224.  128.]\n",
      "  [ 224.  160.]\n",
      "  [ 224.  192.]\n",
      "  [ 224.  224.]\n",
      "  [ 224.  256.]\n",
      "  [ 224.  288.]]\n",
      "\n",
      " [[ 256.   32.]\n",
      "  [ 256.   64.]\n",
      "  [ 256.   96.]\n",
      "  [ 256.  128.]\n",
      "  [ 256.  160.]\n",
      "  [ 256.  192.]\n",
      "  [ 256.  224.]\n",
      "  [ 256.  256.]\n",
      "  [ 256.  288.]]\n",
      "\n",
      " [[ 288.   32.]\n",
      "  [ 288.   64.]\n",
      "  [ 288.   96.]\n",
      "  [ 288.  128.]\n",
      "  [ 288.  160.]\n",
      "  [ 288.  192.]\n",
      "  [ 288.  224.]\n",
      "  [ 288.  256.]\n",
      "  [ 288.  288.]]]\n",
      "\n"
     ]
    }
   ],
   "source": [
    "map_pixel_center_positions = np.squeeze(np.reshape(pixel_center_positions, (y_max, x_max, 2)))\n",
    "print(map_pixel_center_positions)\n",
    "print(\"\")"
   ]
  },
  {
   "cell_type": "code",
   "execution_count": 14,
   "metadata": {
    "ExecuteTime": {
     "end_time": "2018-10-23T06:11:02.365930Z",
     "start_time": "2018-10-23T06:11:02.361928Z"
    }
   },
   "outputs": [
    {
     "name": "stdout",
     "output_type": "stream",
     "text": [
      "[ 128.   96.]\n"
     ]
    }
   ],
   "source": [
    "# fourth row 3rd column\n",
    "print(map_pixel_center_positions[3][2])"
   ]
  },
  {
   "cell_type": "code",
   "execution_count": 15,
   "metadata": {
    "ExecuteTime": {
     "end_time": "2018-10-23T06:11:33.984516Z",
     "start_time": "2018-10-23T06:11:33.978517Z"
    }
   },
   "outputs": [
    {
     "data": {
      "text/plain": [
       "array([ 160.,  160.])"
      ]
     },
     "execution_count": 15,
     "metadata": {},
     "output_type": "execute_result"
    }
   ],
   "source": [
    "# and the middle of our grid?\n",
    "map_pixel_center_positions[4][4]"
   ]
  },
  {
   "cell_type": "markdown",
   "metadata": {},
   "source": [
    "However to find a position based on pixel position we'll use the `scipy.spatial.KDTree` datatype. However it requires the data as an array of 2d arrays"
   ]
  },
  {
   "cell_type": "code",
   "execution_count": 16,
   "metadata": {
    "ExecuteTime": {
     "end_time": "2018-10-23T06:11:39.903782Z",
     "start_time": "2018-10-23T06:11:39.898814Z"
    }
   },
   "outputs": [
    {
     "data": {
      "text/plain": [
       "162"
      ]
     },
     "execution_count": 16,
     "metadata": {},
     "output_type": "execute_result"
    }
   ],
   "source": [
    "#flat_grid = np.squeeze(np.reshape(pixel_positions.flatten(), (y_max, x_max, 2)))\n",
    "flat_pixel_positions = pixel_center_positions.flatten()\n",
    "len(flat_pixel_positions)"
   ]
  },
  {
   "cell_type": "code",
   "execution_count": 17,
   "metadata": {
    "ExecuteTime": {
     "end_time": "2018-10-23T06:11:40.753000Z",
     "start_time": "2018-10-23T06:11:40.746983Z"
    }
   },
   "outputs": [
    {
     "data": {
      "text/plain": [
       "array([[  32.,   32.],\n",
       "       [  32.,   64.],\n",
       "       [  32.,   96.],\n",
       "       [  32.,  128.],\n",
       "       [  32.,  160.],\n",
       "       [  32.,  192.],\n",
       "       [  32.,  224.],\n",
       "       [  32.,  256.],\n",
       "       [  32.,  288.],\n",
       "       [  64.,   32.],\n",
       "       [  64.,   64.],\n",
       "       [  64.,   96.],\n",
       "       [  64.,  128.],\n",
       "       [  64.,  160.],\n",
       "       [  64.,  192.],\n",
       "       [  64.,  224.],\n",
       "       [  64.,  256.],\n",
       "       [  64.,  288.],\n",
       "       [  96.,   32.],\n",
       "       [  96.,   64.],\n",
       "       [  96.,   96.],\n",
       "       [  96.,  128.],\n",
       "       [  96.,  160.],\n",
       "       [  96.,  192.],\n",
       "       [  96.,  224.],\n",
       "       [  96.,  256.],\n",
       "       [  96.,  288.],\n",
       "       [ 128.,   32.],\n",
       "       [ 128.,   64.],\n",
       "       [ 128.,   96.],\n",
       "       [ 128.,  128.],\n",
       "       [ 128.,  160.],\n",
       "       [ 128.,  192.],\n",
       "       [ 128.,  224.],\n",
       "       [ 128.,  256.],\n",
       "       [ 128.,  288.],\n",
       "       [ 160.,   32.],\n",
       "       [ 160.,   64.],\n",
       "       [ 160.,   96.],\n",
       "       [ 160.,  128.],\n",
       "       [ 160.,  160.],\n",
       "       [ 160.,  192.],\n",
       "       [ 160.,  224.],\n",
       "       [ 160.,  256.],\n",
       "       [ 160.,  288.],\n",
       "       [ 192.,   32.],\n",
       "       [ 192.,   64.],\n",
       "       [ 192.,   96.],\n",
       "       [ 192.,  128.],\n",
       "       [ 192.,  160.],\n",
       "       [ 192.,  192.],\n",
       "       [ 192.,  224.],\n",
       "       [ 192.,  256.],\n",
       "       [ 192.,  288.],\n",
       "       [ 224.,   32.],\n",
       "       [ 224.,   64.],\n",
       "       [ 224.,   96.],\n",
       "       [ 224.,  128.],\n",
       "       [ 224.,  160.],\n",
       "       [ 224.,  192.],\n",
       "       [ 224.,  224.],\n",
       "       [ 224.,  256.],\n",
       "       [ 224.,  288.],\n",
       "       [ 256.,   32.],\n",
       "       [ 256.,   64.],\n",
       "       [ 256.,   96.],\n",
       "       [ 256.,  128.],\n",
       "       [ 256.,  160.],\n",
       "       [ 256.,  192.],\n",
       "       [ 256.,  224.],\n",
       "       [ 256.,  256.],\n",
       "       [ 256.,  288.],\n",
       "       [ 288.,   32.],\n",
       "       [ 288.,   64.],\n",
       "       [ 288.,   96.],\n",
       "       [ 288.,  128.],\n",
       "       [ 288.,  160.],\n",
       "       [ 288.,  192.],\n",
       "       [ 288.,  224.],\n",
       "       [ 288.,  256.],\n",
       "       [ 288.,  288.]])"
      ]
     },
     "execution_count": 17,
     "metadata": {},
     "output_type": "execute_result"
    }
   ],
   "source": [
    "flat_pixel_positions = np.reshape(flat_pixel_positions, (int(len(flat_pixel_positions)/2),-1) )\n",
    "flat_pixel_positions"
   ]
  },
  {
   "cell_type": "markdown",
   "metadata": {},
   "source": [
    "Find an x,y position from the tree for the, lets call this the player position"
   ]
  },
  {
   "cell_type": "code",
   "execution_count": 276,
   "metadata": {
    "ExecuteTime": {
     "end_time": "2018-10-23T06:12:09.814757Z",
     "start_time": "2018-10-23T06:12:09.810757Z"
    },
    "collapsed": true
   },
   "outputs": [],
   "source": [
    "# just right of the center\n",
    "#player_rect_x = 192\n",
    "player_rect_x = 220\n",
    "player_rect_y = 160"
   ]
  },
  {
   "cell_type": "code",
   "execution_count": 277,
   "metadata": {
    "ExecuteTime": {
     "end_time": "2018-10-23T06:12:11.454629Z",
     "start_time": "2018-10-23T06:12:11.338586Z"
    },
    "collapsed": true
   },
   "outputs": [],
   "source": [
    "from scipy.spatial import KDTree\n",
    "tree = KDTree(flat_pixel_positions)"
   ]
  },
  {
   "cell_type": "code",
   "execution_count": 278,
   "metadata": {
    "ExecuteTime": {
     "end_time": "2018-10-23T06:12:11.862809Z",
     "start_time": "2018-10-23T06:12:11.857803Z"
    }
   },
   "outputs": [
    {
     "name": "stdout",
     "output_type": "stream",
     "text": [
      "(4.0, 42)\n"
     ]
    }
   ],
   "source": [
    "lookup_pixel_position = tree.query([player_rect_y, player_rect_x])\n",
    "print(lookup_pixel_position)"
   ]
  },
  {
   "cell_type": "markdown",
   "metadata": {
    "ExecuteTime": {
     "end_time": "2018-10-23T05:07:35.778957Z",
     "start_time": "2018-10-23T05:07:35.774981Z"
    }
   },
   "source": [
    "As per http://scipy.github.io/devdocs/generated/scipy.spatial.KDTree.query.html#scipy.spatial.KDTree.query\n",
    "\n",
    "* `lookup_pixel_position[0]` - The distances to the nearest neighbors\n",
    "* `lookup_pixel_position[1]` - The locations of the neighbors"
   ]
  },
  {
   "cell_type": "code",
   "execution_count": 279,
   "metadata": {
    "ExecuteTime": {
     "end_time": "2018-10-23T06:27:18.873853Z",
     "start_time": "2018-10-23T06:27:18.866870Z"
    }
   },
   "outputs": [
    {
     "data": {
      "text/plain": [
       "array([ 160.,  224.])"
      ]
     },
     "execution_count": 279,
     "metadata": {},
     "output_type": "execute_result"
    }
   ],
   "source": [
    "player_pos = flat_pixel_positions[lookup_pixel_position[1]]\n",
    "player_pos"
   ]
  },
  {
   "cell_type": "markdown",
   "metadata": {},
   "source": [
    "for a given pixel position get the index position."
   ]
  },
  {
   "cell_type": "code",
   "execution_count": 280,
   "metadata": {},
   "outputs": [
    {
     "data": {
      "text/plain": [
       "(array([42], dtype=int64),)"
      ]
     },
     "execution_count": 280,
     "metadata": {},
     "output_type": "execute_result"
    }
   ],
   "source": [
    "#  list comp was slower\n",
    "# np.where([x[0] and x[1] for x in pixel_center_positions == player_pos])\n",
    "np.where(np.all(pixel_center_positions == player_pos, axis = 1))"
   ]
  },
  {
   "cell_type": "markdown",
   "metadata": {},
   "source": [
    "trying to replicate\n",
    "```\n",
    "        xpos = self.rect.centerx - SETTINGS.player_rect[0]\n",
    "        ypos = SETTINGS.player_rect[1] - self.rect.centery\n",
    "```"
   ]
  },
  {
   "cell_type": "markdown",
   "metadata": {},
   "source": [
    "got some help from http://structure.usc.edu/numarray/node26.html about numpy slicing, basically the `:` means get all in the parent, and the number following says which element of the array in the parent array we want."
   ]
  },
  {
   "cell_type": "code",
   "execution_count": 281,
   "metadata": {},
   "outputs": [
    {
     "data": {
      "text/plain": [
       "array([-128., -128., -128., -128., -128., -128., -128., -128., -128.,\n",
       "        -96.,  -96.,  -96.,  -96.,  -96.,  -96.,  -96.,  -96.,  -96.,\n",
       "        -64.,  -64.,  -64.,  -64.,  -64.,  -64.,  -64.,  -64.,  -64.,\n",
       "        -32.,  -32.,  -32.,  -32.,  -32.,  -32.,  -32.,  -32.,  -32.,\n",
       "          0.,    0.,    0.,    0.,    0.,    0.,    0.,    0.,    0.,\n",
       "         32.,   32.,   32.,   32.,   32.,   32.,   32.,   32.,   32.,\n",
       "         64.,   64.,   64.,   64.,   64.,   64.,   64.,   64.,   64.,\n",
       "         96.,   96.,   96.,   96.,   96.,   96.,   96.,   96.,   96.,\n",
       "        128.,  128.,  128.,  128.,  128.,  128.,  128.,  128.,  128.])"
      ]
     },
     "execution_count": 281,
     "metadata": {},
     "output_type": "execute_result"
    }
   ],
   "source": [
    "y_pos = flat_pixel_positions[:,0] - player_pos[0]\n",
    "y_pos"
   ]
  },
  {
   "cell_type": "code",
   "execution_count": 282,
   "metadata": {},
   "outputs": [
    {
     "data": {
      "text/plain": [
       "array([-192., -160., -128.,  -96.,  -64.,  -32.,    0.,   32.,   64.,\n",
       "       -192., -160., -128.,  -96.,  -64.,  -32.,    0.,   32.,   64.,\n",
       "       -192., -160., -128.,  -96.,  -64.,  -32.,    0.,   32.,   64.,\n",
       "       -192., -160., -128.,  -96.,  -64.,  -32.,    0.,   32.,   64.,\n",
       "       -192., -160., -128.,  -96.,  -64.,  -32.,    0.,   32.,   64.,\n",
       "       -192., -160., -128.,  -96.,  -64.,  -32.,    0.,   32.,   64.,\n",
       "       -192., -160., -128.,  -96.,  -64.,  -32.,    0.,   32.,   64.,\n",
       "       -192., -160., -128.,  -96.,  -64.,  -32.,    0.,   32.,   64.,\n",
       "       -192., -160., -128.,  -96.,  -64.,  -32.,    0.,   32.,   64.])"
      ]
     },
     "execution_count": 282,
     "metadata": {},
     "output_type": "execute_result"
    }
   ],
   "source": [
    "xpos = flat_pixel_positions[:,1] - player_pos[1]\n",
    "xpos"
   ]
  },
  {
   "cell_type": "markdown",
   "metadata": {},
   "source": [
    "this is also a thing for distances:\n",
    "dist = numpy.linalg.norm(a-b)\n",
    "\n",
    "https://stackoverflow.com/questions/1401712/how-can-the-euclidean-distance-be-calculated-with-numpy#"
   ]
  },
  {
   "cell_type": "code",
   "execution_count": 283,
   "metadata": {},
   "outputs": [
    {
     "data": {
      "text/plain": [
       "array([ 230.75528163,  186.59046064,  143.10835056,  101.19288513,\n",
       "         64.        ,   45.254834  ,   64.        ,  101.19288513,\n",
       "        143.10835056,  230.75528163,  186.59046064,  143.10835056,\n",
       "        101.19288513,   64.        ,   45.254834  ,   64.        ,\n",
       "        101.19288513,  143.10835056,  230.75528163,  186.59046064,\n",
       "        143.10835056,  101.19288513,   64.        ,   45.254834  ,\n",
       "         64.        ,  101.19288513,  143.10835056,  230.75528163,\n",
       "        186.59046064,  143.10835056,  101.19288513,   64.        ,\n",
       "         45.254834  ,   64.        ,  101.19288513,  143.10835056,\n",
       "        230.75528163,  186.59046064,  143.10835056,  101.19288513,\n",
       "         64.        ,   45.254834  ,   64.        ,  101.19288513,\n",
       "        143.10835056,  230.75528163,  186.59046064,  143.10835056,\n",
       "        101.19288513,   64.        ,   45.254834  ,   64.        ,\n",
       "        101.19288513,  143.10835056,  230.75528163,  186.59046064,\n",
       "        143.10835056,  101.19288513,   64.        ,   45.254834  ,\n",
       "         64.        ,  101.19288513,  143.10835056,  230.75528163,\n",
       "        186.59046064,  143.10835056,  101.19288513,   64.        ,\n",
       "         45.254834  ,   64.        ,  101.19288513,  143.10835056,\n",
       "        230.75528163,  186.59046064,  143.10835056,  101.19288513,\n",
       "         64.        ,   45.254834  ,   64.        ,  101.19288513,\n",
       "        143.10835056])"
      ]
     },
     "execution_count": 283,
     "metadata": {},
     "output_type": "execute_result"
    }
   ],
   "source": [
    "dist = np.sqrt((xpos * xpos) + (ypos * ypos))\n",
    "dist"
   ]
  },
  {
   "cell_type": "markdown",
   "metadata": {},
   "source": [
    "Now to calculate the theta for the tiles"
   ]
  },
  {
   "cell_type": "code",
   "execution_count": 322,
   "metadata": {
    "collapsed": true
   },
   "outputs": [],
   "source": [
    "def np_theta(x, y):\n",
    "    return np.degrees(np.arctan2(y ,x) % (2 * np.pi))"
   ]
  },
  {
   "cell_type": "code",
   "execution_count": 323,
   "metadata": {},
   "outputs": [
    {
     "data": {
      "text/plain": [
       "array([ 269.53420681,  266.7499613 ,  272.10097169,  271.18335847,\n",
       "        180.        ,   91.18335847,   92.10097169,   86.7499613 ,\n",
       "         89.53420681,  269.53420681,  266.7499613 ,  272.10097169,\n",
       "        271.18335847,  180.        ,   91.18335847,   92.10097169,\n",
       "         86.7499613 ,   89.53420681,  269.53420681,  266.7499613 ,\n",
       "        272.10097169,  271.18335847,  180.        ,   91.18335847,\n",
       "         92.10097169,   86.7499613 ,   89.53420681,  269.53420681,\n",
       "        266.7499613 ,  272.10097169,  271.18335847,  180.        ,\n",
       "         91.18335847,   92.10097169,   86.7499613 ,   89.53420681,\n",
       "        269.53420681,  266.7499613 ,  272.10097169,  271.18335847,\n",
       "        180.        ,   91.18335847,   92.10097169,   86.7499613 ,\n",
       "         89.53420681,  269.53420681,  266.7499613 ,  272.10097169,\n",
       "        271.18335847,  180.        ,   91.18335847,   92.10097169,\n",
       "         86.7499613 ,   89.53420681,  269.53420681,  266.7499613 ,\n",
       "        272.10097169,  271.18335847,  180.        ,   91.18335847,\n",
       "         92.10097169,   86.7499613 ,   89.53420681,  269.53420681,\n",
       "        266.7499613 ,  272.10097169,  271.18335847,  180.        ,\n",
       "         91.18335847,   92.10097169,   86.7499613 ,   89.53420681,\n",
       "        269.53420681,  266.7499613 ,  272.10097169,  271.18335847,\n",
       "        180.        ,   91.18335847,   92.10097169,   86.7499613 ,\n",
       "         89.53420681])"
      ]
     },
     "execution_count": 323,
     "metadata": {},
     "output_type": "execute_result"
    }
   ],
   "source": [
    "theta = np_theta(xpos, ypos)\n",
    "theta"
   ]
  },
  {
   "cell_type": "code",
   "execution_count": 332,
   "metadata": {},
   "outputs": [
    {
     "data": {
      "text/plain": [
       "91.183358473478918"
      ]
     },
     "execution_count": 332,
     "metadata": {},
     "output_type": "execute_result"
    }
   ],
   "source": [
    "theta[41]"
   ]
  },
  {
   "cell_type": "markdown",
   "metadata": {
    "ExecuteTime": {
     "end_time": "2018-10-23T05:44:00.853797Z",
     "start_time": "2018-10-23T05:44:00.849828Z"
    }
   },
   "source": [
    "Let's visualise the grid, green is close, red is further away."
   ]
  },
  {
   "cell_type": "code",
   "execution_count": 326,
   "metadata": {
    "ExecuteTime": {
     "end_time": "2018-10-23T06:13:02.544986Z",
     "start_time": "2018-10-23T06:13:02.338019Z"
    }
   },
   "outputs": [],
   "source": [
    "import matplotlib as mpl\n",
    "import matplotlib.pyplot as plt\n",
    "import numpy as np\n",
    "\n",
    "def grid_plot(data, colours = ['green','yellow','red']):\n",
    "    # colour map\n",
    "    my_cmap = mpl.colors.LinearSegmentedColormap.from_list(\n",
    "        'my_colours',\n",
    "        colours,\n",
    "        256\n",
    "    )\n",
    "\n",
    "    # have to reshape into an array of 2d arrays\n",
    "    img = plt.imshow(np.reshape(data, (y_max, x_max)), cmap = my_cmap)\n",
    "\n",
    "\n",
    "    # make a color bar\n",
    "    plt.colorbar(img, cmap = my_cmap)\n",
    "\n",
    "    plt.show()"
   ]
  },
  {
   "cell_type": "code",
   "execution_count": 330,
   "metadata": {},
   "outputs": [
    {
     "data": {
      "image/png": "[encoded data removed]",
      "text/plain": [
       "<matplotlib.figure.Figure at 0x21e024f6cf8>"
      ]
     },
     "metadata": {},
     "output_type": "display_data"
    }
   ],
   "source": [
    "grid_plot(theta)"
   ]
  },
  {
   "cell_type": "code",
   "execution_count": 289,
   "metadata": {
    "ExecuteTime": {
     "end_time": "2018-10-23T06:12:17.638692Z",
     "start_time": "2018-10-23T06:12:17.634684Z"
    },
    "collapsed": true
   },
   "outputs": [],
   "source": [
    "from scipy.spatial.distance import pdist, cosine, cdist\n",
    "#cosine(player_pos, destination)"
   ]
  },
  {
   "cell_type": "code",
   "execution_count": 290,
   "metadata": {
    "ExecuteTime": {
     "end_time": "2018-10-23T06:12:21.917467Z",
     "start_time": "2018-10-23T06:12:21.914462Z"
    },
    "collapsed": true
   },
   "outputs": [],
   "source": [
    "#pdist([player_pos, destination])"
   ]
  },
  {
   "cell_type": "code",
   "execution_count": 291,
   "metadata": {
    "ExecuteTime": {
     "end_time": "2018-10-23T06:12:22.085468Z",
     "start_time": "2018-10-23T06:12:22.082466Z"
    },
    "collapsed": true
   },
   "outputs": [],
   "source": [
    "#pdist([player_pos, destination], \"cosine\")"
   ]
  },
  {
   "cell_type": "markdown",
   "metadata": {},
   "source": [
    "find the distances from player to other places, assuming a tile size"
   ]
  },
  {
   "cell_type": "code",
   "execution_count": 292,
   "metadata": {
    "ExecuteTime": {
     "end_time": "2018-10-23T06:12:22.776639Z",
     "start_time": "2018-10-23T06:12:22.770634Z"
    }
   },
   "outputs": [
    {
     "data": {
      "text/plain": [
       "array([[ 230.75528163,  204.8999756 ,  181.01933598,  160.        ,\n",
       "         143.10835056,  131.93938002,  128.        ,  131.93938002,\n",
       "         143.10835056,  214.66252584,  186.59046064,  160.        ,\n",
       "         135.76450199,  115.37764081,  101.19288513,   96.        ,\n",
       "         101.19288513,  115.37764081,  202.38577025,  172.32527383,\n",
       "         143.10835056,  115.37764081,   90.50966799,   71.55417528,\n",
       "          64.        ,   71.55417528,   90.50966799,  194.64840097,\n",
       "         163.16862443,  131.93938002,  101.19288513,   71.55417528,\n",
       "          45.254834  ,   32.        ,   45.254834  ,   71.55417528,\n",
       "         192.        ,  160.        ,  128.        ,   96.        ,\n",
       "          64.        ,   32.        ,    0.        ,   32.        ,\n",
       "          64.        ,  194.64840097,  163.16862443,  131.93938002,\n",
       "         101.19288513,   71.55417528,   45.254834  ,   32.        ,\n",
       "          45.254834  ,   71.55417528,  202.38577025,  172.32527383,\n",
       "         143.10835056,  115.37764081,   90.50966799,   71.55417528,\n",
       "          64.        ,   71.55417528,   90.50966799,  214.66252584,\n",
       "         186.59046064,  160.        ,  135.76450199,  115.37764081,\n",
       "         101.19288513,   96.        ,  101.19288513,  115.37764081,\n",
       "         230.75528163,  204.8999756 ,  181.01933598,  160.        ,\n",
       "         143.10835056,  131.93938002,  128.        ,  131.93938002,\n",
       "         143.10835056]])"
      ]
     },
     "execution_count": 292,
     "metadata": {},
     "output_type": "execute_result"
    }
   ],
   "source": [
    "from scipy.spatial.distance import pdist, cosine, cdist\n",
    "tile_distances_from_player = cdist([player_pos], flat_pixel_positions)\n",
    "tile_distances_from_player"
   ]
  },
  {
   "cell_type": "code",
   "execution_count": 293,
   "metadata": {},
   "outputs": [
    {
     "data": {
      "image/png": "[encoded data removed]",
      "text/plain": [
       "<matplotlib.figure.Figure at 0x21e027eeb38>"
      ]
     },
     "metadata": {},
     "output_type": "display_data"
    }
   ],
   "source": [
    "grid_plot(tile_distances_from_player)"
   ]
  },
  {
   "cell_type": "markdown",
   "metadata": {},
   "source": [
    "Let's find positions with-in 3 tile distances, thinking about maximum render distance."
   ]
  },
  {
   "cell_type": "code",
   "execution_count": 39,
   "metadata": {
    "ExecuteTime": {
     "end_time": "2018-10-23T06:13:38.822617Z",
     "start_time": "2018-10-23T06:13:38.819609Z"
    }
   },
   "outputs": [
    {
     "name": "stdout",
     "output_type": "stream",
     "text": [
      "[[False False False False False False False False False False False False\n",
      "  False False False False False False False False False False False  True\n",
      "  False False False False False False False  True  True  True False False\n",
      "  False False False  True  True  True  True  True False False False False\n",
      "  False  True  True  True False False False False False False False  True\n",
      "  False False False False False False False False False False False False\n",
      "  False False False False False False False False False]]\n"
     ]
    }
   ],
   "source": [
    "nearby_tile_distance = tile_distances_from_player <= tile_center * 2\n",
    "print(nearby_tile_distance)"
   ]
  },
  {
   "cell_type": "markdown",
   "metadata": {},
   "source": [
    "and this is how we get the distance of the tiles"
   ]
  }
 ],
 "metadata": {
  "hide_input": false,
  "kernelspec": {
   "display_name": "Python 3",
   "language": "python",
   "name": "python3"
  },
  "language_info": {
   "codemirror_mode": {
    "name": "ipython",
    "version": 3
   },
   "file_extension": ".py",
   "mimetype": "text/x-python",
   "name": "python",
   "nbconvert_exporter": "python",
   "pygments_lexer": "ipython3",
   "version": "3.6.1"
  },
  "toc": {
   "base_numbering": 1,
   "nav_menu": {},
   "number_sections": false,
   "sideBar": false,
   "skip_h1_title": false,
   "title_cell": "Table of Contents",
   "title_sidebar": "Contents",
   "toc_cell": true,
   "toc_position": {},
   "toc_section_display": false,
   "toc_window_display": false
  }
 },
 "nbformat": 4,
 "nbformat_minor": 2
}
