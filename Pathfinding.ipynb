{
 "cells": [
  {
   "cell_type": "markdown",
   "metadata": {},
   "source": [
    "found this at: http://code.activestate.com/recipes/578919-python-a-pathfinding-with-binary-heap/"
   ]
  },
  {
   "cell_type": "code",
   "execution_count": 2,
   "metadata": {},
   "outputs": [],
   "source": [
    "import numpy\n",
    "from heapq import *\n",
    "\n",
    "\n",
    "def heuristic(a, b):\n",
    "    return (b[0] - a[0]) ** 2 + (b[1] - a[1]) ** 2\n",
    "\n",
    "def astar(array, start, goal):\n",
    "\n",
    "    neighbors = [(0,1),(0,-1),(1,0),(-1,0),(1,1),(1,-1),(-1,1),(-1,-1)]\n",
    "\n",
    "    close_set = set()\n",
    "    came_from = {}\n",
    "    gscore = {start:0}\n",
    "    fscore = {start:heuristic(start, goal)}\n",
    "    oheap = []\n",
    "\n",
    "    heappush(oheap, (fscore[start], start))\n",
    "    \n",
    "    while oheap:\n",
    "\n",
    "        current = heappop(oheap)[1]\n",
    "\n",
    "        if current == goal:\n",
    "            data = []\n",
    "            while current in came_from:\n",
    "                data.append(current)\n",
    "                current = came_from[current]\n",
    "            return reversed(data)\n",
    "\n",
    "        close_set.add(current)\n",
    "        for i, j in neighbors:\n",
    "            neighbor = current[0] + i, current[1] + j            \n",
    "            tentative_g_score = gscore[current] + heuristic(current, neighbor)\n",
    "            if 0 <= neighbor[0] < array.shape[0]:\n",
    "                if 0 <= neighbor[1] < array.shape[1]:                \n",
    "                    if array[neighbor[0]][neighbor[1]] == 1:\n",
    "                        continue\n",
    "                else:\n",
    "                    # array bound y walls\n",
    "                    continue\n",
    "            else:\n",
    "                # array bound x walls\n",
    "                continue\n",
    "                \n",
    "            if neighbor in close_set and tentative_g_score >= gscore.get(neighbor, 0):\n",
    "                continue\n",
    "                \n",
    "            if  tentative_g_score < gscore.get(neighbor, 0) or neighbor not in [i[1]for i in oheap]:\n",
    "                came_from[neighbor] = current\n",
    "                gscore[neighbor] = tentative_g_score\n",
    "                fscore[neighbor] = tentative_g_score + heuristic(neighbor, goal)\n",
    "                heappush(oheap, (fscore[neighbor], neighbor))\n",
    "                \n",
    "    return False"
   ]
  },
  {
   "cell_type": "code",
   "execution_count": 21,
   "metadata": {},
   "outputs": [],
   "source": [
    "nmap = numpy.array([\n",
    "    [0,0,0,0,0,0,0,0,0,0,0,0,0,0],\n",
    "    [1,1,1,1,1,1,1,1,1,1,1,1,0,1],\n",
    "    [0,0,0,0,0,0,0,0,0,0,0,0,0,0],\n",
    "    [1,0,1,1,1,1,1,1,1,1,1,1,1,1],\n",
    "    [0,0,0,0,0,0,0,0,0,0,0,0,0,0],\n",
    "    [1,1,1,1,1,1,1,1,1,1,1,1,0,1],\n",
    "    [0,0,0,0,0,0,0,0,0,0,0,0,0,0],\n",
    "    [1,0,1,1,1,1,1,1,1,1,1,1,1,1],\n",
    "    [0,0,0,0,0,0,0,0,0,0,0,0,0,0],\n",
    "    [1,1,1,1,1,1,1,1,1,1,1,1,0,1],\n",
    "    [0,0,0,0,0,0,0,0,0,0,0,0,0,0],\n",
    "    [0,0,0,0,0,0,0,0,0,0,0,0,0,0],\n",
    "    [1,1,1,1,1,1,1,1,1,1,1,1,0,1],\n",
    "    [0,0,0,0,0,0,0,0,0,0,0,0,0,0],\n",
    "    [1,0,1,1,1,1,1,1,1,1,1,1,1,1],\n",
    "    [0,0,0,0,0,0,0,0,0,0,0,0,0,0],\n",
    "    [1,1,1,1,1,1,1,1,1,1,1,1,0,1],\n",
    "    [0,0,0,0,0,0,0,0,0,0,0,0,0,0],\n",
    "    [1,0,1,1,1,1,1,1,1,1,1,1,1,1],\n",
    "    [0,0,0,0,0,0,0,0,0,0,0,0,0,0],\n",
    "    [1,1,1,1,1,1,1,1,1,1,1,1,0,1],\n",
    "    [0,0,0,0,0,0,0,0,0,0,0,0,0,0],\n",
    "    [0,0,0,0,0,0,0,0,0,0,0,0,0,0],\n",
    "    [1,1,1,1,1,1,1,1,1,1,1,1,0,1],\n",
    "    [0,0,0,0,0,0,0,0,0,0,0,0,0,0],\n",
    "    [1,0,1,1,1,1,1,1,1,1,1,1,1,1],\n",
    "    [0,0,0,0,0,0,0,0,0,0,0,0,0,0],\n",
    "    [1,1,1,1,1,1,1,1,1,1,1,1,0,1],\n",
    "    [0,0,0,0,0,0,0,0,0,0,0,0,0,0],\n",
    "    [1,0,1,1,1,1,1,1,1,1,1,1,1,1],\n",
    "    [0,0,0,0,0,0,0,0,0,0,0,0,0,0],\n",
    "    [1,1,1,1,1,1,1,1,1,1,1,1,0,1],\n",
    "    [0,0,0,0,0,0,0,0,0,0,0,0,0,0],    \n",
    "])"
   ]
  },
  {
   "cell_type": "code",
   "execution_count": 22,
   "metadata": {},
   "outputs": [
    {
     "name": "stdout",
     "output_type": "stream",
     "text": [
      "2.69 ms ± 25.9 µs per loop (mean ± std. dev. of 7 runs, 100 loops each)\n"
     ]
    }
   ],
   "source": [
    "%timeit astar(nmap, (0,0), (10,13))"
   ]
  },
  {
   "cell_type": "code",
   "execution_count": 7,
   "metadata": {},
   "outputs": [
    {
     "data": {
      "text/plain": [
       "0"
      ]
     },
     "execution_count": 7,
     "metadata": {},
     "output_type": "execute_result"
    }
   ],
   "source": [
    "nmap[0][0]"
   ]
  },
  {
   "cell_type": "code",
   "execution_count": 20,
   "metadata": {},
   "outputs": [
    {
     "data": {
      "text/plain": [
       "array([[0., 0., 0., 0., 0.],\n",
       "       [0., 0., 1., 0., 0.],\n",
       "       [0., 0., 0., 0., 0.],\n",
       "       [0., 0., 0., 0., 0.],\n",
       "       [0., 0., 0., 0., 0.],\n",
       "       [0., 0., 0., 0., 0.],\n",
       "       [0., 0., 0., 0., 0.],\n",
       "       [0., 0., 0., 0., 0.],\n",
       "       [0., 0., 0., 0., 0.],\n",
       "       [0., 0., 0., 0., 0.]])"
      ]
     },
     "execution_count": 20,
     "metadata": {},
     "output_type": "execute_result"
    }
   ],
   "source": [
    "import numpy as np\n",
    "my_array = np.zeros(5 * 10)\n",
    "my_array = my_array.reshape(10,5)\n",
    "my_array[(1,2)] = 1\n",
    "my_array"
   ]
  },
  {
   "cell_type": "code",
   "execution_count": null,
   "metadata": {},
   "outputs": [],
   "source": [
    "def pathfind(mymap, start, end):\n",
    "    #print(start, end)\n",
    "    '''== A* Pathfinding ==\\npathfind(start, end) -> Shortest path from start to end\\nFormat is list with tile objects'''\n",
    "    openlist = {}\n",
    "    closedlist = {}\n",
    "    path = []\n",
    "    error = False\n",
    "\n",
    "    if not error:\n",
    "        #f_value has to be determined after creation of node.\n",
    "        openlist[start_point] = [0, find_distance(start_point, end_point), 0, None]\n",
    "        openlist[start_point][2] = f_value(start_point, openlist)\n",
    "        current_point = start_point\n",
    "\n",
    "        while current_point != end_point:\n",
    "            try:\n",
    "                current_point = min(openlist, key=lambda k: (openlist[k][2], openlist[k][1]))\n",
    "            except:\n",
    "                error = True\n",
    "                break\n",
    "            \n",
    "            closedlist[current_point] = openlist[current_point]\n",
    "            del openlist[current_point]\n",
    "\n",
    "            #Find adjacent nodes\n",
    "            adjacent = []\n",
    "            \n",
    "            adj_up = [x for x in mymap if x[0] == current_point.map_pos[0] and x.map_pos[1] == current_point.map_pos[1]-1]\n",
    "            adj_right = [x for x in mymap if x[0] == current_point.map_pos[0]+1 and x.map_pos[1] == current_point.map_pos[1]]\n",
    "            adj_down = [x for x in mymap if x[0] == current_point.map_pos[0] and x.map_pos[1] == current_point.map_pos[1]+1]\n",
    "            adj_left = [x for x in mymap if x[0] == current_point.map_pos[0]-1 and x.map_pos[1] == current_point.map_pos[1]]\n",
    "            \n",
    "            if adj_up:\n",
    "                adjacent.append(adj_up[0])\n",
    "            if adj_right:\n",
    "                adjacent.append(adj_right[0])\n",
    "            if adj_down:\n",
    "                adjacent.append(adj_down[0])\n",
    "            if adj_left:\n",
    "                adjacent.append(adj_left[0])\n",
    "\n",
    "            #Add adjecent nodes to openlist if they are not in closedlist and are not solid\n",
    "            for adj in adjacent:\n",
    "                \n",
    "                if (adj.type == TileType.HDOOR or adj.type == TileType.VDOOR or not SETTINGS.tile_solid[adj.ID]) and adj not in closedlist:\n",
    "                    if (adj in openlist and openlist[adj][0] > closedlist[current_point][0]+1) or adj not in openlist:\n",
    "                        openlist[adj] = [closedlist[current_point][0]+1, find_distance(adj, end_point), 0, current_point]\n",
    "                        openlist[adj][2] = f_value(adj, openlist)\n",
    "        \n",
    "        try:\n",
    "            while closedlist[current_point][3] != None:\n",
    "                path.append(current_point)\n",
    "                current_point = closedlist[current_point][3]\n",
    "        except:\n",
    "            pass\n",
    "            \n",
    "        path.append(start_point)\n",
    "        path = list(reversed(path))\n",
    "\n",
    "        if error:\n",
    "            return closedlist\n",
    "        else:\n",
    "            return path\n"
   ]
  }
 ],
 "metadata": {
  "kernelspec": {
   "display_name": "Python 3",
   "language": "python",
   "name": "python3"
  },
  "language_info": {
   "codemirror_mode": {
    "name": "ipython",
    "version": 3
   },
   "file_extension": ".py",
   "mimetype": "text/x-python",
   "name": "python",
   "nbconvert_exporter": "python",
   "pygments_lexer": "ipython3",
   "version": "3.7.1"
  }
 },
 "nbformat": 4,
 "nbformat_minor": 2
}
